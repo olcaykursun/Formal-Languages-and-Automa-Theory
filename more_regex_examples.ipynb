{
  "nbformat": 4,
  "nbformat_minor": 0,
  "metadata": {
    "colab": {
      "provenance": [],
      "collapsed_sections": [],
      "authorship_tag": "ABX9TyOj80MSEFiGYu1YUKmN/Bjh",
      "include_colab_link": true
    },
    "kernelspec": {
      "name": "python3",
      "display_name": "Python 3"
    },
    "language_info": {
      "name": "python"
    }
  },
  "cells": [
    {
      "cell_type": "markdown",
      "metadata": {
        "id": "view-in-github",
        "colab_type": "text"
      },
      "source": [
        "<a href=\"https://colab.research.google.com/github/olcaykursun/Formal-Languages-and-Automata-Theory/blob/main/more_regex_examples.ipynb\" target=\"_parent\"><img src=\"https://colab.research.google.com/assets/colab-badge.svg\" alt=\"Open In Colab\"/></a>"
      ]
    },
    {
      "cell_type": "code",
      "source": [
        "#alphabet of {a,b,c} and it ends with aaa and the length is NOT a multiple of 3\n",
        "\n",
        "import re\n",
        "\n",
        "members = '''abbcbcbaaa\n",
        "abaccaaa\n",
        "cccbbbcbaaa\n",
        "cbcaaaaaaa\n",
        "aaaaa\n",
        "aaaa\n",
        "caaa\n",
        "cccbaaa'''\n",
        "\n",
        "nonmembers = '''abc\n",
        "ac\n",
        "aaa\n",
        "a\n",
        "\n",
        "cccaaa\n",
        "aaaaaa\n",
        "daaa'''\n",
        "\n",
        "#All of the following patterns are good\n",
        "#pattern = re.compile(r'^([abc]{3})*[abc]{1,2}aaa$', re.MULTILINE)   \n",
        "#pattern = re.compile(r'^([abc]{3})*(a|b|c|aa|ab|ac|ba|bb|bc|ca|cb|cc)aaa$', re.MULTILINE)   \n",
        "pattern = re.compile(r'^([abc]{3})*([abc]|[abc]{2})aaa$', re.MULTILINE)\n",
        "\n",
        "#alphabet of {a,b,c} and it ends with aaa and the length is NOT a multiple of 3\n",
        "\n",
        "#let us check if only the member strings are matched with the expression\n",
        "matches = set([x.group(0) for x in pattern.finditer(members+'\\n'+nonmembers)])\n",
        "print(matches == set(members.split('\\n')))\n",
        "print(matches)\n"
      ],
      "metadata": {
        "colab": {
          "base_uri": "https://localhost:8080/"
        },
        "id": "aC4iXLSZRi3r",
        "outputId": "09ae7b9c-5d18-48a0-98c2-89364aa4678f"
      },
      "execution_count": null,
      "outputs": [
        {
          "output_type": "stream",
          "name": "stdout",
          "text": [
            "True\n",
            "{'aaaa', 'aaaaa', 'abaccaaa', 'abbcbcbaaa', 'cbcaaaaaaa', 'caaa', 'cccbbbcbaaa', 'cccbaaa'}\n"
          ]
        }
      ]
    },
    {
      "cell_type": "code",
      "execution_count": null,
      "metadata": {
        "colab": {
          "base_uri": "https://localhost:8080/"
        },
        "id": "fGXiv6CGPrBG",
        "outputId": "7a38cf1d-9f10-43e5-8519-a93408e0b22a"
      },
      "outputs": [
        {
          "output_type": "stream",
          "name": "stdout",
          "text": [
            "True\n",
            "{'aaaa', 'aaaaaa', 'bbcbcaaa', 'abaaaa', 'cbcaaaaa', 'ccbaaa', 'cccaaa', 'ccbbbaaa'}\n"
          ]
        }
      ],
      "source": [
        "#alphabet of {a,b,c} and it ends with aaa and the length is even\n",
        "\n",
        "import re\n",
        "\n",
        "members = '''bbcbcaaa\n",
        "abaaaa\n",
        "ccbbbaaa\n",
        "cbcaaaaa\n",
        "aaaa\n",
        "aaaaaa\n",
        "ccbaaa\n",
        "cccaaa'''\n",
        "\n",
        "nonmembers = '''abc\n",
        "ac\n",
        "aaaaa\n",
        "a\n",
        "\n",
        "cccbbbbbba\n",
        "aaaab'''\n",
        "\n",
        "pattern = re.compile(r'^([abc]{2})*[abc]aaa$', re.MULTILINE)   \n",
        "#alphabet of {a,b,c} and it ends with aaa and the length is even\n",
        "\n",
        "#let us check if only the member strings are matched with the expression\n",
        "matches = set([x.group(0) for x in pattern.finditer(members+'\\n'+nonmembers)])\n",
        "print(matches == set(members.split('\\n')))\n",
        "print(matches)\n"
      ]
    },
    {
      "cell_type": "code",
      "source": [
        "#alphabet of {a,b,c} and if it contains any a's then it has even length, if it does\n",
        "#not contain any a's then it has odd lenth\n",
        "\n",
        "import re\n",
        "\n",
        "members = '''abbb\n",
        "cbaa\n",
        "cbaaac\n",
        "aaaa\n",
        "bcb\n",
        "ccc\n",
        "cccbb\n",
        "cccaaa'''\n",
        "\n",
        "nonmembers = '''a\n",
        "\n",
        "aaa\n",
        "aaabb\n",
        "baaac\n",
        "bc\n",
        "bb\n",
        "cccb'''\n",
        "\n",
        "L1 = r'([abc]{2})*a([abc]{2})*[abc]'\n",
        "L2 = r'([abc]{2})*[abc]a([abc]{2})*'\n",
        "L3 = r'([bc]{2})*[bc]'\n",
        "L = r'^({}|{}|{})$'.format(L1,L2,L3)\n",
        "print(L)\n",
        "pattern = re.compile(L, re.MULTILINE)   \n",
        "#alphabet of {a,b,c} and if it contains any a's then it has even length, if it does\n",
        "#not contain any a's then it has odd lenth\n",
        "\n",
        "#let us check if only the member strings are matched with the expression\n",
        "matches = set([x.group(0) for x in pattern.finditer(members+'\\n'+nonmembers)])\n",
        "print(matches == set(members.split('\\n')))\n",
        "print(matches)\n"
      ],
      "metadata": {
        "colab": {
          "base_uri": "https://localhost:8080/"
        },
        "id": "2-D36S34UACv",
        "outputId": "53a422c4-aadf-466c-f70e-1fd0f8528196"
      },
      "execution_count": null,
      "outputs": [
        {
          "output_type": "stream",
          "name": "stdout",
          "text": [
            "^(([abc]{2})*a([abc]{2})*[abc]|([abc]{2})*[abc]a([abc]{2})*|([bc]{2})*[bc])$\n",
            "True\n",
            "{'cbaaac', 'aaaa', 'bcb', 'ccc', 'cbaa', 'abbb', 'cccaaa', 'cccbb'}\n"
          ]
        }
      ]
    }
  ]
}