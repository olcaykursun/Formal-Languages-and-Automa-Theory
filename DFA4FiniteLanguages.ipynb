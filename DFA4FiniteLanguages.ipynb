{
  "nbformat": 4,
  "nbformat_minor": 0,
  "metadata": {
    "colab": {
      "provenance": [],
      "authorship_tag": "ABX9TyPtmNOvAUpxS1xjt+z9RaGa",
      "include_colab_link": true
    },
    "kernelspec": {
      "name": "python3",
      "display_name": "Python 3"
    },
    "language_info": {
      "name": "python"
    }
  },
  "cells": [
    {
      "cell_type": "markdown",
      "metadata": {
        "id": "view-in-github",
        "colab_type": "text"
      },
      "source": [
        "<a href=\"https://colab.research.google.com/github/olcaykursun/Formal-Languages-and-Automata-Theory/blob/main/DFA4FiniteLanguages.ipynb\" target=\"_parent\"><img src=\"https://colab.research.google.com/assets/colab-badge.svg\" alt=\"Open In Colab\"/></a>"
      ]
    },
    {
      "cell_type": "code",
      "source": [
        "from itertools import product\n",
        "\n",
        "def generate_all_strings(alphabet, m):\n",
        "    # Generates all combinations of symbols from alphabet up to length m\n",
        "    all_strings = ['']\n",
        "    for length in range(1, m+1):\n",
        "        for combination in product(alphabet, repeat=length):\n",
        "            all_strings.append(''.join(combination))\n",
        "    return all_strings\n",
        "\n",
        "def create_dfa(alphabet, language):\n",
        "    m = max(len(word) for word in language)\n",
        "    all_strings = generate_all_strings(alphabet, m)\n",
        "\n",
        "    trap_state = \"Ω\"\n",
        "\n",
        "    dfa = {\n",
        "        'states': all_strings + [trap_state],\n",
        "        'alphabet': alphabet,\n",
        "        'transitions': {},\n",
        "        'start': '', # Empty string as start\n",
        "        'accept': {word for word in language}\n",
        "    }\n",
        "\n",
        "    for current_position in all_strings:\n",
        "        for symbol in alphabet:\n",
        "            if len(current_position) < m:\n",
        "                next_string = current_position + symbol\n",
        "                dfa['transitions'][current_position,symbol] = next_string\n",
        "            else:\n",
        "                dfa['transitions'][current_position,symbol] = trap_state\n",
        "\n",
        "    # Transitions for trap state\n",
        "    dfa['transitions'][trap_state] = {symbol: trap_state for symbol in alphabet}\n",
        "\n",
        "    return dfa\n",
        "\n",
        "def dfa_accepts_string(dfa, s):\n",
        "    current_state = dfa['start']\n",
        "    for symbol in s:\n",
        "        if symbol not in dfa['alphabet']:\n",
        "            return False\n",
        "        assert((current_state,symbol) in dfa['transitions'])\n",
        "        current_state = dfa['transitions'][current_state,symbol]\n",
        "\n",
        "    # If we end up in one of the accepting states, return True\n",
        "    return current_state in dfa['accept']\n",
        "\n",
        "def main():\n",
        "    alphabet = input(\"Enter the alphabet (comma-separated, e.g. a,b,c): \").split(\",\")\n",
        "    language = input(\"Enter the finite language (comma-separated, e.g. ab,ac): \").split(\",\")\n",
        "\n",
        "    dfa = create_dfa(alphabet, language)\n",
        "\n",
        "    print(\"\\nGenerated DFA:\")\n",
        "    print(dfa)\n",
        "\n",
        "    while True:\n",
        "        test_string = input(\"\\nEnter a string to test (or '.' to exit): \")\n",
        "        if test_string == \".\":\n",
        "            break\n",
        "        if dfa_accepts_string(dfa, test_string):\n",
        "            print(f\"The DFA accepts '{test_string}'.\")\n",
        "        else:\n",
        "            print(f\"The DFA does not accept '{test_string}'.\")\n",
        "\n",
        "if __name__ == \"__main__\":\n",
        "    main()\n"
      ],
      "metadata": {
        "colab": {
          "base_uri": "https://localhost:8080/"
        },
        "id": "hD7rvEKFzCCg",
        "outputId": "c1fc35b6-7dca-4866-9298-836bdc4c0de8"
      },
      "execution_count": null,
      "outputs": [
        {
          "name": "stdout",
          "output_type": "stream",
          "text": [
            "Enter the alphabet (comma-separated, e.g. a,b,c): a,b\n",
            "Enter the finite language (comma-separated, e.g. ab,ac): aa,aaa,b\n",
            "\n",
            "Generated DFA:\n",
            "{'states': ['', 'a', 'b', 'aa', 'ab', 'ba', 'bb', 'aaa', 'aab', 'aba', 'abb', 'baa', 'bab', 'bba', 'bbb', 'Ω'], 'alphabet': ['a', 'b'], 'transitions': {('', 'a'): 'a', ('', 'b'): 'b', ('a', 'a'): 'aa', ('a', 'b'): 'ab', ('b', 'a'): 'ba', ('b', 'b'): 'bb', ('aa', 'a'): 'aaa', ('aa', 'b'): 'aab', ('ab', 'a'): 'aba', ('ab', 'b'): 'abb', ('ba', 'a'): 'baa', ('ba', 'b'): 'bab', ('bb', 'a'): 'bba', ('bb', 'b'): 'bbb', ('aaa', 'a'): 'Ω', ('aaa', 'b'): 'Ω', ('aab', 'a'): 'Ω', ('aab', 'b'): 'Ω', ('aba', 'a'): 'Ω', ('aba', 'b'): 'Ω', ('abb', 'a'): 'Ω', ('abb', 'b'): 'Ω', ('baa', 'a'): 'Ω', ('baa', 'b'): 'Ω', ('bab', 'a'): 'Ω', ('bab', 'b'): 'Ω', ('bba', 'a'): 'Ω', ('bba', 'b'): 'Ω', ('bbb', 'a'): 'Ω', ('bbb', 'b'): 'Ω', 'Ω': {'a': 'Ω', 'b': 'Ω'}}, 'start': '', 'accept': {'aaa', 'aa', 'b'}}\n",
            "\n",
            "Enter a string to test (or '.' to exit): 2\n",
            "The DFA does not accept '2'.\n",
            "\n",
            "Enter a string to test (or '.' to exit): a\n",
            "The DFA does not accept 'a'.\n",
            "\n",
            "Enter a string to test (or '.' to exit): aa\n",
            "The DFA accepts 'aa'.\n",
            "\n",
            "Enter a string to test (or '.' to exit): b\n",
            "The DFA accepts 'b'.\n",
            "\n",
            "Enter a string to test (or '.' to exit): bb\n",
            "The DFA does not accept 'bb'.\n",
            "\n",
            "Enter a string to test (or '.' to exit): aaa\n",
            "The DFA accepts 'aaa'.\n",
            "\n",
            "Enter a string to test (or '.' to exit): aaaa\n",
            "The DFA does not accept 'aaaa'.\n",
            "\n",
            "Enter a string to test (or '.' to exit): ab\n",
            "The DFA does not accept 'ab'.\n",
            "\n",
            "Enter a string to test (or '.' to exit): .\n"
          ]
        }
      ]
    }
  ]
}