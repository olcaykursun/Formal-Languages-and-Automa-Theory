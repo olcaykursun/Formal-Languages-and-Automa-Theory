{
  "nbformat": 4,
  "nbformat_minor": 0,
  "metadata": {
    "colab": {
      "provenance": [],
      "authorship_tag": "ABX9TyORFKu2tph65vUR4buXH0VP",
      "include_colab_link": true
    },
    "kernelspec": {
      "name": "python3",
      "display_name": "Python 3"
    },
    "language_info": {
      "name": "python"
    }
  },
  "cells": [
    {
      "cell_type": "markdown",
      "metadata": {
        "id": "view-in-github",
        "colab_type": "text"
      },
      "source": [
        "<a href=\"https://colab.research.google.com/github/olcaykursun/Formal-Languages-and-Automata-Theory/blob/main/Spring24_important_regex_examples.ipynb\" target=\"_parent\"><img src=\"https://colab.research.google.com/assets/colab-badge.svg\" alt=\"Open In Colab\"/></a>"
      ]
    },
    {
      "cell_type": "code",
      "source": [
        "#Intro to regular expressions examples, CSCI6200, Dr. Kursun, Spring 2024, AUM Computer Science\n",
        "\n",
        "#Some resources:\n",
        "#https://youtu.be/K8L6KVGG-7o  Nice youtube video for starters\n",
        "#https://docs.python.org/3/howto/regex.html\n",
        "#https://web.mit.edu/hackl/www/lab/turkshop/slides/regex-cheatsheet.pdf\n",
        "#https://developers.google.com/edu/python/regular-expressions\n",
        "#https://github.com/CoreyMSchafer/code_snippets/tree/master/Python-Regular-Expressions\n"
      ],
      "metadata": {
        "id": "KlZ1Y6RnwH_u"
      },
      "execution_count": null,
      "outputs": []
    },
    {
      "cell_type": "code",
      "source": [
        "import re\n",
        "\n",
        "members = '''abaaa\n",
        "aaa\n",
        "aaaa\n",
        "aaaba\n",
        "dddaaabbb'''\n",
        "\n",
        "nonmembers = '''abcd\n",
        "ac\n",
        "aa\n",
        "a\n",
        "b\n",
        "ca\n",
        "aaba\n",
        "ddd'''\n",
        "\n",
        "pattern = re.compile(r'^\\w*aaa\\w*$', re.MULTILINE)\n",
        "#Any sequence that contains “aaa”\n",
        "\n",
        "#let us check if only the member strings are matched with the expression\n",
        "matches = set([x.group(0) for x in pattern.finditer(members+'\\n'+nonmembers)])\n",
        "print(matches == set(members.split('\\n')))\n",
        "print(matches)"
      ],
      "metadata": {
        "colab": {
          "base_uri": "https://localhost:8080/"
        },
        "id": "Xx4zvq0nYzKz",
        "outputId": "a7502d81-02d0-495e-a355-bbf65c5b8e06"
      },
      "execution_count": 1,
      "outputs": [
        {
          "output_type": "stream",
          "name": "stdout",
          "text": [
            "True\n",
            "{'aaaa', 'abaaa', 'aaaba', 'aaa', 'dddaaabbb'}\n"
          ]
        }
      ]
    },
    {
      "cell_type": "code",
      "source": [
        "import re\n",
        "\n",
        "members = '''34534AbcD\n",
        "1234567Aa\n",
        "AaAa8'''\n",
        "\n",
        "nonmembers = '''aaaaa\n",
        "abababababAAA\n",
        "3123123\n",
        "a2A\n",
        "abbbcbcaASDASD4'''\n",
        "\n",
        "pattern = re.compile(r'^(?=.*[a-z])(?=.*[A-Z])(?=.*\\d)\\w{5,9}$', re.MULTILINE)\n",
        "#Passwords between 5-9 alphanum chars\n",
        "\n",
        "#let us check if only the member strings are matched with the expression\n",
        "matches = set([x.group(0) for x in pattern.finditer(members+'\\n'+nonmembers)])\n",
        "print(matches == set(members.split('\\n')))\n",
        "print(matches)"
      ],
      "metadata": {
        "colab": {
          "base_uri": "https://localhost:8080/"
        },
        "id": "Fv2cSEgTZP7z",
        "outputId": "abe0abe5-a689-457c-de06-b27db1bb391e"
      },
      "execution_count": 2,
      "outputs": [
        {
          "output_type": "stream",
          "name": "stdout",
          "text": [
            "True\n",
            "{'34534AbcD', '1234567Aa', 'AaAa8'}\n"
          ]
        }
      ]
    },
    {
      "cell_type": "code",
      "source": [
        "import re\n",
        "\n",
        "members = '''abadabcaadbbbbbbccc\n",
        "cccccbbbbcbvaaaaab\n",
        "cccccbbbbcbvadaabadae'''\n",
        "\n",
        "nonmembers = '''abadacaadbbbbbbccc\n",
        "73a72a727\n",
        "bcbcbcbcba72dfgsdfgsdfgsdfgsdfgsdfgaaaa4a7a6'''\n",
        "\n",
        "pattern = re.compile(r'^[b-z]*a(.)[a-z]*a\\1[a-z]*$', re.MULTILINE)\n",
        "#Whichever character the first \"a\" is followed by in the string, another occurrence of \"a\" is followed by the same character\n",
        "\n",
        "#let us check if only the member strings are matched with the expression\n",
        "matches = set([x.group(0) for x in pattern.finditer(members+'\\n'+nonmembers)])\n",
        "print(matches == set(members.split('\\n')))\n",
        "print(matches)"
      ],
      "metadata": {
        "colab": {
          "base_uri": "https://localhost:8080/"
        },
        "id": "LgGkjkzCZ7VG",
        "outputId": "06bedca2-d49d-4424-c9ce-6bfb79a1ae25"
      },
      "execution_count": 13,
      "outputs": [
        {
          "output_type": "stream",
          "name": "stdout",
          "text": [
            "True\n",
            "{'cccccbbbbcbvadaabadae', 'cccccbbbbcbvaaaaab', 'abadabcaadbbbbbbccc'}\n"
          ]
        }
      ]
    },
    {
      "cell_type": "code",
      "source": [
        "import re\n",
        "\n",
        "members = '''aba\n",
        "abb\n",
        "abc\n",
        "\n",
        "ddd'''\n",
        "\n",
        "nonmembers = '''abcd\n",
        "ac\n",
        "aaaa\n",
        "a\n",
        "b\n",
        "ca\n",
        "aab'''\n",
        "\n",
        "pattern = re.compile(r'^(aba|abb|abc||ddd)$', re.MULTILINE)\n",
        "#accept L = {aba,abb,abc,lambda(empty-string),ddd}\n",
        "\n",
        "#let us check if only the member strings are matched with the expression\n",
        "matches = set([x.group(0) for x in pattern.finditer(members+'\\n'+nonmembers)])\n",
        "print(matches == set(members.split('\\n')))\n",
        "print(matches)"
      ],
      "metadata": {
        "colab": {
          "base_uri": "https://localhost:8080/"
        },
        "id": "QoWT6M7geuDk",
        "outputId": "b6f5db37-1c18-47db-aad8-edb1b4582428"
      },
      "execution_count": null,
      "outputs": [
        {
          "output_type": "stream",
          "name": "stdout",
          "text": [
            "True\n",
            "{'', 'ddd', 'abc', 'aba', 'abb'}\n"
          ]
        }
      ]
    },
    {
      "cell_type": "code",
      "execution_count": null,
      "metadata": {
        "colab": {
          "base_uri": "https://localhost:8080/"
        },
        "id": "3zFdEKNi8TQG",
        "outputId": "b0d395a3-3ca3-495f-c720-1e6e01c55722"
      },
      "outputs": [
        {
          "output_type": "stream",
          "name": "stdout",
          "text": [
            "True\n",
            "{'abbcbcaaa', 'cccbbbaaa', 'ccbaaa', 'cbcaaaaaa', 'aaa', 'abaaaa', 'cccaaa'}\n"
          ]
        }
      ],
      "source": [
        "import re\n",
        "\n",
        "members = '''abbcbcaaa\n",
        "abaaaa\n",
        "cccbbbaaa\n",
        "cbcaaaaaa\n",
        "aaa\n",
        "ccbaaa\n",
        "cccaaa'''\n",
        "\n",
        "nonmembers = '''abc\n",
        "ac\n",
        "aaaa\n",
        "a\n",
        "\n",
        "cccbbbbbba\n",
        "aaaab'''\n",
        "\n",
        "pattern = re.compile(r'^([abc]{3})*aaa$', re.MULTILINE)\n",
        "#strings over {a,b,c} that end with aaa and the length must be a multiple of 3\n",
        "\n",
        "#let us check if only the member strings are matched with the expression\n",
        "matches = set([x.group(0) for x in pattern.finditer(members+'\\n'+nonmembers)])\n",
        "print(matches == set(members.split('\\n')))\n",
        "print(matches)"
      ]
    },
    {
      "cell_type": "code",
      "source": [
        "import re\n",
        "\n",
        "members = '''abbcbcabb\n",
        "abaaba\n",
        "cccbbbaaaccc\n",
        "cbcaaaaaacbc\n",
        "aaa\n",
        "aba\n",
        "abc\n",
        "ccbccb\n",
        "cccccc'''\n",
        "\n",
        "nonmembers = '''abcc\n",
        "ac\n",
        "aaaa\n",
        "a\n",
        "\n",
        "cccbbbbbba\n",
        "aaaab'''\n",
        "\n",
        "pattern = re.compile(r'^([abc]{3})(([abc]{3})*\\1)?$', re.MULTILINE)\n",
        "#All strings over the alphabet {a,b,c} whose\n",
        "#first three symbols (prefix) match the last three symbols (suffix)\n",
        "#and the length is a multiple of 3\n",
        "\n",
        "#let us check if only the member strings are matched with the expression\n",
        "matches = set([x.group(0) for x in pattern.finditer(members+'\\n'+nonmembers)])\n",
        "print(matches == set(members.split('\\n')))\n",
        "print(matches)"
      ],
      "metadata": {
        "colab": {
          "base_uri": "https://localhost:8080/"
        },
        "id": "WVqC9htPC1P6",
        "outputId": "783ad299-eb47-4173-b1ff-c057dc3b564c"
      },
      "execution_count": null,
      "outputs": [
        {
          "output_type": "stream",
          "name": "stdout",
          "text": [
            "True\n",
            "{'abaaba', 'ccbccb', 'cccbbbaaaccc', 'abc', 'aba', 'cbcaaaaaacbc', 'cccccc', 'abbcbcabb', 'aaa'}\n"
          ]
        }
      ]
    },
    {
      "cell_type": "code",
      "source": [
        "import re\n",
        "\n",
        "members = '''abbcbcabb\n",
        "abaaba\n",
        "cccbbbaaaccc\n",
        "cbcaaaaaacbc\n",
        "aaa\n",
        "zzz\n",
        "123aba123\n",
        "___\n",
        "ccbccb\n",
        "___aaa___bcb___\n",
        "cccccc'''\n",
        "\n",
        "nonmembers = '''abcc\n",
        "ac\n",
        "aaaa\n",
        "a\n",
        "\n",
        "cccbbbbbba\n",
        "aaaab'''\n",
        "\n",
        "pattern = re.compile(r'^(\\w{3})((\\w{3})*\\1)?$', re.MULTILINE)\n",
        "#All strings over the alphabet a-Z, A-Z, 0-9, and underscore whose\n",
        "#first three symbols (prefix) match the last three symbols (suffix)\n",
        "#and the length is a multiple of 3\n",
        "\n",
        "#let us create \"group-1\" via the parantheses (\\w{3}) and then force it by \\1\n",
        "#but of course we have \"?\" that allows \"abc\" because \"abc\" starts with \"abc\" and ends with \"abc\"\n",
        "#so, we should accept all length-3 strings by default and \"?\" helps with that.\n",
        "\n",
        "#let us check if only the member strings are matched with the expression\n",
        "matches = set([x.group(0) for x in pattern.finditer(members+'\\n'+nonmembers)])\n",
        "print(matches == set(members.split('\\n')))\n",
        "print(matches)\n"
      ],
      "metadata": {
        "colab": {
          "base_uri": "https://localhost:8080/"
        },
        "id": "N01lq4IhG3QZ",
        "outputId": "63ead799-13c2-4f3c-b302-3ac8055409dd"
      },
      "execution_count": null,
      "outputs": [
        {
          "output_type": "stream",
          "name": "stdout",
          "text": [
            "True\n",
            "{'abaaba', 'ccbccb', '___', 'cccbbbaaaccc', '___aaa___bcb___', '123aba123', 'cbcaaaaaacbc', 'cccccc', 'abbcbcabb', 'aaa', 'zzz'}\n"
          ]
        }
      ]
    },
    {
      "cell_type": "code",
      "source": [
        "#alphabet of {a,b,c} and it ends with aaa and the length is NOT a multiple of 3\n",
        "\n",
        "import re\n",
        "\n",
        "members = '''abbcbcbaaa\n",
        "abaccaaa\n",
        "cccbbbcbaaa\n",
        "cbcaaaaaaa\n",
        "aaaaa\n",
        "aaaa\n",
        "caaa\n",
        "cccbaaa'''\n",
        "\n",
        "nonmembers = '''abc\n",
        "ac\n",
        "aaa\n",
        "a\n",
        "\n",
        "cccaaa\n",
        "aaaaaa\n",
        "daaa'''\n",
        "\n",
        "#All of the following patterns are good\n",
        "#pattern = re.compile(r'^([abc]{3})*[abc]{1,2}aaa$', re.MULTILINE)\n",
        "#pattern = re.compile(r'^([abc]{3})*(a|b|c|aa|ab|ac|ba|bb|bc|ca|cb|cc)aaa$', re.MULTILINE)\n",
        "pattern = re.compile(r'^([abc]{3})*([abc]|[abc]{2})aaa$', re.MULTILINE)\n",
        "\n",
        "#alphabet of {a,b,c} and it ends with aaa and the length is NOT a multiple of 3\n",
        "\n",
        "#let us check if only the member strings are matched with the expression\n",
        "matches = set([x.group(0) for x in pattern.finditer(members+'\\n'+nonmembers)])\n",
        "print(matches == set(members.split('\\n')))\n",
        "print(matches)\n"
      ],
      "metadata": {
        "colab": {
          "base_uri": "https://localhost:8080/"
        },
        "id": "aC4iXLSZRi3r",
        "outputId": "bfcad897-4c49-4085-e088-58e74b924318"
      },
      "execution_count": null,
      "outputs": [
        {
          "output_type": "stream",
          "name": "stdout",
          "text": [
            "True\n",
            "{'abaccaaa', 'cccbaaa', 'aaaaa', 'cccbbbcbaaa', 'aaaa', 'abbcbcbaaa', 'cbcaaaaaaa', 'caaa'}\n"
          ]
        }
      ]
    },
    {
      "cell_type": "code",
      "execution_count": null,
      "metadata": {
        "colab": {
          "base_uri": "https://localhost:8080/"
        },
        "id": "fGXiv6CGPrBG",
        "outputId": "9dab10d2-761b-424f-b901-875b97b51f0d"
      },
      "outputs": [
        {
          "output_type": "stream",
          "name": "stdout",
          "text": [
            "True\n",
            "{'bbcbcaaa', 'ccbbbaaa', 'ccbaaa', 'cbcaaaaa', 'aaaaaa', 'abaaaa', 'aaaa', 'cccaaa'}\n"
          ]
        }
      ],
      "source": [
        "#alphabet of {a,b,c} and it ends with aaa and the length is even\n",
        "\n",
        "import re\n",
        "\n",
        "members = '''bbcbcaaa\n",
        "abaaaa\n",
        "ccbbbaaa\n",
        "cbcaaaaa\n",
        "aaaa\n",
        "aaaaaa\n",
        "ccbaaa\n",
        "cccaaa'''\n",
        "\n",
        "nonmembers = '''abc\n",
        "ac\n",
        "aaaaa\n",
        "a\n",
        "\n",
        "cccbbbbbba\n",
        "aaaab'''\n",
        "\n",
        "pattern = re.compile(r'^([abc]{2})*[abc]aaa$', re.MULTILINE)\n",
        "#alphabet of {a,b,c} and it ends with aaa and the length is even\n",
        "\n",
        "#let us check if only the member strings are matched with the expression\n",
        "matches = set([x.group(0) for x in pattern.finditer(members+'\\n'+nonmembers)])\n",
        "print(matches == set(members.split('\\n')))\n",
        "print(matches)\n"
      ]
    },
    {
      "cell_type": "code",
      "source": [
        "#Although {ww | w is element of {a,b}*} is not regular, we can write a regular expression for it\n",
        "#Because we are implicitly accepting the fact that Regex will simply crash in a sense if we run out of memory\n",
        "#So, in a way length of w is bounded by a large number for the regex below\n",
        "\n",
        "#alphabet of {a,b,c} and if it contains any a's then it has even length, if it does\n",
        "#not contain any a's then it has odd lenth\n",
        "\n",
        "import re\n",
        "\n",
        "members = '''abab\n",
        "acbacb\n",
        "cbaacbaa\n",
        "\n",
        "aaaa\n",
        "aaaaaa'''\n",
        "\n",
        "nonmembers = '''a\n",
        "bbb\n",
        "aaaaa\n",
        "aaabb\n",
        "baaac\n",
        "bc\n",
        "bba\n",
        "cccb'''\n",
        "\n",
        "pattern = re.compile(r'^(\\w*)\\1$', re.MULTILINE)\n",
        "matches = set([x.group(0) for x in pattern.finditer(members+'\\n'+nonmembers)])\n",
        "print(matches == set(members.split('\\n')))\n",
        "print(matches)\n"
      ],
      "metadata": {
        "colab": {
          "base_uri": "https://localhost:8080/"
        },
        "id": "7ZHTpDSBhg7E",
        "outputId": "18266e8a-4072-4750-f471-bade485766c2"
      },
      "execution_count": null,
      "outputs": [
        {
          "output_type": "stream",
          "name": "stdout",
          "text": [
            "True\n",
            "{'', 'acbacb', 'cbaacbaa', 'aaaaaa', 'aaaa', 'abab'}\n"
          ]
        }
      ]
    }
  ]
}